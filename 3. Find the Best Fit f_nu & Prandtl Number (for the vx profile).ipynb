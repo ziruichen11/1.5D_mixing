{
 "cells": [
  {
   "cell_type": "markdown",
   "id": "7bd45cd0",
   "metadata": {},
   "source": [
    "# with $\\mathcal{M}_{\\rm rel}=0.75$, $\\chi=10^2$, and $\\tau=10^{-1.5}$, the best fit $f_{\\nu}=0.053$ and $Pr=0.19$"
   ]
  },
  {
   "cell_type": "markdown",
   "id": "fb0da39e",
   "metadata": {},
   "source": [
    "# next, we use the scaling relationships shown in Figure 16 to find the best fit $f_{\\nu}$ and $Pr$ for any choice of $\\mathcal{M}_{\\rm rel}$, $\\chi$, and $\\tau$"
   ]
  },
  {
   "cell_type": "code",
   "execution_count": 1,
   "id": "0c3f06f2",
   "metadata": {},
   "outputs": [],
   "source": [
    "# set the relative shear velocity between the phases here\n",
    "mach_rel = \n",
    "\n",
    "# set the value of chi here\n",
    "chi = \n",
    "\n",
    "# set the value of tau here\n",
    "tau = "
   ]
  },
  {
   "cell_type": "code",
   "execution_count": null,
   "id": "074d9474",
   "metadata": {},
   "outputs": [],
   "source": [
    "def logistic(x, L, k, x_0, b):\n",
    "    try:\n",
    "        return (L / (1 + math.exp(-k*(x-x_0)))) + b\n",
    "    except OverflowError:\n",
    "        return b"
   ]
  },
  {
   "cell_type": "code",
   "execution_count": 2,
   "id": "be212677",
   "metadata": {},
   "outputs": [],
   "source": [
    "best_fit_f_nu = 0.053 * (mach_rel/0.75)**0 * (chi/10**2)**0 * (tau/10**(-1.5))**0\n",
    "best_fit_Pr = (mach_rel/0.75)**(-1) * (chi/10**2)**(-2.75) * 10**logistic(np.log10(tau), 1.65284393, -18.384728,    -1.41183262, -1.64779733)\n"
   ]
  },
  {
   "cell_type": "code",
   "execution_count": null,
   "id": "dc238a1b",
   "metadata": {},
   "outputs": [],
   "source": [
    "print ('the best fit f_nu value is ' + str(best_fit_f_nu))\n",
    "print ('the best fit Pr value is ' + str(best_fit_Pr))"
   ]
  },
  {
   "cell_type": "code",
   "execution_count": null,
   "id": "59825b40",
   "metadata": {},
   "outputs": [],
   "source": []
  }
 ],
 "metadata": {
  "kernelspec": {
   "display_name": "Python 3 (ipykernel)",
   "language": "python",
   "name": "python3"
  },
  "language_info": {
   "codemirror_mode": {
    "name": "ipython",
    "version": 3
   },
   "file_extension": ".py",
   "mimetype": "text/x-python",
   "name": "python",
   "nbconvert_exporter": "python",
   "pygments_lexer": "ipython3",
   "version": "3.9.12"
  }
 },
 "nbformat": 4,
 "nbformat_minor": 5
}
