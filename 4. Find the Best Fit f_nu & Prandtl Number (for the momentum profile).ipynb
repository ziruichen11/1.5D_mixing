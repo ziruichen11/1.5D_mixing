{
 "cells": [
  {
   "cell_type": "markdown",
   "id": "7bd45cd0",
   "metadata": {},
   "source": [
    "# with $\\mathcal{M}_{\\rm rel}=0.75$, $\\chi=10^2$, and $\\tau=10^{-1.5}$, the best fit $f_{\\nu}=0.00065$ and $Pr=0.4$"
   ]
  },
  {
   "cell_type": "markdown",
   "id": "fb0da39e",
   "metadata": {},
   "source": [
    "# next, we use the scaling relationships shown in Figure 16 to find the best fit $f_{\\nu}$ and $Pr$ for any choice of $\\mathcal{M}_{\\rm rel}$, $\\chi$, and $\\tau$"
   ]
  },
  {
   "cell_type": "code",
   "execution_count": null,
   "id": "0c3f06f2",
   "metadata": {},
   "outputs": [],
   "source": [
    "# set the relative shear velocity between the phases here\n",
    "mach_rel = \n",
    "\n",
    "# set the value of chi here\n",
    "chi = \n",
    "\n",
    "# set the value of tau here\n",
    "tau = "
   ]
  },
  {
   "cell_type": "code",
   "execution_count": null,
   "id": "be212677",
   "metadata": {},
   "outputs": [],
   "source": [
    "best_fit_f_nu = 0.00065 * (mach_rel/0.75)**(1) * (chi/10**2)**(0.5) * (tau/10**(-1.5))**(1.5)\n",
    "best_fit_Pr = 0.4 * (mach_rel/0.75)**(0) * (chi/10**2)**(0) * (tau/10**(-1.5))**(0.15)"
   ]
  },
  {
   "cell_type": "code",
   "execution_count": null,
   "id": "ca82179d",
   "metadata": {},
   "outputs": [],
   "source": [
    "print ('the best fit f_nu value is ' + str(best_fit_f_nu))\n",
    "print ('the best fit Pr value is ' + str(best_fit_Pr))"
   ]
  },
  {
   "cell_type": "code",
   "execution_count": null,
   "id": "dc238a1b",
   "metadata": {},
   "outputs": [],
   "source": []
  }
 ],
 "metadata": {
  "kernelspec": {
   "display_name": "Python 3 (ipykernel)",
   "language": "python",
   "name": "python3"
  },
  "language_info": {
   "codemirror_mode": {
    "name": "ipython",
    "version": 3
   },
   "file_extension": ".py",
   "mimetype": "text/x-python",
   "name": "python",
   "nbconvert_exporter": "python",
   "pygments_lexer": "ipython3",
   "version": "3.9.12"
  }
 },
 "nbformat": 4,
 "nbformat_minor": 5
}
